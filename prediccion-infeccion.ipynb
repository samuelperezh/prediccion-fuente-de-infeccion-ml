{
 "cells": [
  {
   "cell_type": "markdown",
   "id": "99d78f65-829c-4667-8c82-a0fddf2ddfed",
   "metadata": {},
   "source": [
    "# 📊 Predicción de fuente de infección - Machine Learning\n",
    "### Samuel Pérez Hurtado"
   ]
  },
  {
   "cell_type": "markdown",
   "id": "47726312-6a66-4b78-a41e-ecc6d7ec3e62",
   "metadata": {},
   "source": [
    "Se importan todas las librerías que se van a usar en el trabajo."
   ]
  },
  {
   "cell_type": "code",
   "execution_count": 1,
   "id": "c7b0e12b-0b56-48a8-9812-f07108c4b95f",
   "metadata": {},
   "outputs": [],
   "source": [
    "import numpy as np\n",
    "import pandas as pd\n",
    "import seaborn as sns\n",
    "import matplotlib.pyplot as plt\n",
    "from sklearn.metrics import accuracy_score, recall_score, f1_score, precision_score, classification_report, confusion_matrix\n",
    "from sklearn.preprocessing import StandardScaler\n",
    "from sklearn.neural_network import MLPClassifier\n",
    "from sklearn.model_selection import GridSearchCV\n",
    "from imblearn.over_sampling import SMOTE"
   ]
  },
  {
   "cell_type": "markdown",
   "id": "5924919a-881c-482d-b96a-d893ca7d1663",
   "metadata": {
    "tags": []
   },
   "source": [
    "# 1 - Explicación del Dataset\n",
    "Los datos fueron extraídos de OpenData Medellín, se trata de los casos positivos de la viruela símica en el municipio de Medellín.\n",
    "<br>\n",
    "Se desea crear una red neuronal multiclase que permita clasificar la fuente de la infección dados atributos como la semana de la infección, el año, el género y la edad de la persona.\n",
    "<br>\n",
    "Las variables de entrada seleccionadas (porque están relacionadas con la variable objetivo) son las siguientes:"
   ]
  },
  {
   "cell_type": "markdown",
   "id": "3fff1c46-9d0e-4efe-91fa-b5749f76223d",
   "metadata": {},
   "source": [
    "**Semana:** Se refiere a la semana del año en que se reportó el inicio de los síntomas <br>\n",
    "**Año:** Se refiere al año en que se reportó el inicio de los síntomas <br>\n",
    "**Sexo:** Se refiere al género (masculino o femenino) de la persona infectada <br>\n",
    "**Edad:** Se refiere a la edad de la persona en el momento de la infección <br>\n",
    "**Vínculo epidemiológico:** Se refiere al vínculo epidemiológico de la persona (1 si tuvo contacto o fue caso importado y 0 si se desconoce) <br>\n",
    "**Viajó:** Se refiere a si la persona viajó en los últimos 14 días fuera del país (0 = NO, 1 = SI)"
   ]
  },
  {
   "cell_type": "markdown",
   "id": "be61a15a-87b7-4260-ae1e-fd1d01b8731c",
   "metadata": {},
   "source": [
    "La variable objetivo es:\n",
    "<br>\n",
    "**Fuente de la infección:** Se refiere a la proveniencia de la enfermedad (FUENTE DESCONOCIDA, IMPORTADO, RELACIONADO CON LA FUENTE DESCONOCIDA, RELACIONADO CON LA IMPORTACIÓN)"
   ]
  },
  {
   "cell_type": "code",
   "execution_count": 2,
   "id": "505ceae3-7040-4cf0-b5c1-013a74aea0f8",
   "metadata": {},
   "outputs": [
    {
     "data": {
      "text/html": [
       "<div>\n",
       "<style scoped>\n",
       "    .dataframe tbody tr th:only-of-type {\n",
       "        vertical-align: middle;\n",
       "    }\n",
       "\n",
       "    .dataframe tbody tr th {\n",
       "        vertical-align: top;\n",
       "    }\n",
       "\n",
       "    .dataframe thead th {\n",
       "        text-align: right;\n",
       "    }\n",
       "</style>\n",
       "<table border=\"1\" class=\"dataframe\">\n",
       "  <thead>\n",
       "    <tr style=\"text-align: right;\">\n",
       "      <th></th>\n",
       "      <th>Semana</th>\n",
       "      <th>Año</th>\n",
       "      <th>Sexo</th>\n",
       "      <th>Edad</th>\n",
       "      <th>Vínculo epidemiológico</th>\n",
       "      <th>Viajó</th>\n",
       "      <th>Fuente de la infección</th>\n",
       "    </tr>\n",
       "  </thead>\n",
       "  <tbody>\n",
       "    <tr>\n",
       "      <th>0</th>\n",
       "      <td>37</td>\n",
       "      <td>2022</td>\n",
       "      <td>M</td>\n",
       "      <td>37</td>\n",
       "      <td>1</td>\n",
       "      <td>0</td>\n",
       "      <td>RELACIONADO CON FUENTE DESCONOCIDA</td>\n",
       "    </tr>\n",
       "    <tr>\n",
       "      <th>1</th>\n",
       "      <td>33</td>\n",
       "      <td>2022</td>\n",
       "      <td>M</td>\n",
       "      <td>26</td>\n",
       "      <td>2</td>\n",
       "      <td>0</td>\n",
       "      <td>FUENTE DESCONOCIDA</td>\n",
       "    </tr>\n",
       "    <tr>\n",
       "      <th>2</th>\n",
       "      <td>37</td>\n",
       "      <td>2022</td>\n",
       "      <td>M</td>\n",
       "      <td>37</td>\n",
       "      <td>2</td>\n",
       "      <td>0</td>\n",
       "      <td>FUENTE DESCONOCIDA</td>\n",
       "    </tr>\n",
       "    <tr>\n",
       "      <th>3</th>\n",
       "      <td>34</td>\n",
       "      <td>2022</td>\n",
       "      <td>M</td>\n",
       "      <td>31</td>\n",
       "      <td>2</td>\n",
       "      <td>0</td>\n",
       "      <td>FUENTE DESCONOCIDA</td>\n",
       "    </tr>\n",
       "    <tr>\n",
       "      <th>4</th>\n",
       "      <td>35</td>\n",
       "      <td>2022</td>\n",
       "      <td>M</td>\n",
       "      <td>33</td>\n",
       "      <td>2</td>\n",
       "      <td>0</td>\n",
       "      <td>FUENTE DESCONOCIDA</td>\n",
       "    </tr>\n",
       "    <tr>\n",
       "      <th>...</th>\n",
       "      <td>...</td>\n",
       "      <td>...</td>\n",
       "      <td>...</td>\n",
       "      <td>...</td>\n",
       "      <td>...</td>\n",
       "      <td>...</td>\n",
       "      <td>...</td>\n",
       "    </tr>\n",
       "    <tr>\n",
       "      <th>999</th>\n",
       "      <td>41</td>\n",
       "      <td>2022</td>\n",
       "      <td>M</td>\n",
       "      <td>26</td>\n",
       "      <td>2</td>\n",
       "      <td>0</td>\n",
       "      <td>FUENTE DESCONOCIDA</td>\n",
       "    </tr>\n",
       "    <tr>\n",
       "      <th>1000</th>\n",
       "      <td>43</td>\n",
       "      <td>2022</td>\n",
       "      <td>M</td>\n",
       "      <td>28</td>\n",
       "      <td>2</td>\n",
       "      <td>0</td>\n",
       "      <td>FUENTE DESCONOCIDA</td>\n",
       "    </tr>\n",
       "    <tr>\n",
       "      <th>1001</th>\n",
       "      <td>43</td>\n",
       "      <td>2022</td>\n",
       "      <td>M</td>\n",
       "      <td>33</td>\n",
       "      <td>2</td>\n",
       "      <td>0</td>\n",
       "      <td>FUENTE DESCONOCIDA</td>\n",
       "    </tr>\n",
       "    <tr>\n",
       "      <th>1002</th>\n",
       "      <td>42</td>\n",
       "      <td>2022</td>\n",
       "      <td>M</td>\n",
       "      <td>39</td>\n",
       "      <td>2</td>\n",
       "      <td>0</td>\n",
       "      <td>FUENTE DESCONOCIDA</td>\n",
       "    </tr>\n",
       "    <tr>\n",
       "      <th>1003</th>\n",
       "      <td>43</td>\n",
       "      <td>2022</td>\n",
       "      <td>M</td>\n",
       "      <td>37</td>\n",
       "      <td>2</td>\n",
       "      <td>0</td>\n",
       "      <td>FUENTE DESCONOCIDA</td>\n",
       "    </tr>\n",
       "  </tbody>\n",
       "</table>\n",
       "<p>1004 rows × 7 columns</p>\n",
       "</div>"
      ],
      "text/plain": [
       "      Semana   Año Sexo  Edad  Vínculo epidemiológico  Viajó   \n",
       "0         37  2022    M    37                       1      0  \\\n",
       "1         33  2022    M    26                       2      0   \n",
       "2         37  2022    M    37                       2      0   \n",
       "3         34  2022    M    31                       2      0   \n",
       "4         35  2022    M    33                       2      0   \n",
       "...      ...   ...  ...   ...                     ...    ...   \n",
       "999       41  2022    M    26                       2      0   \n",
       "1000      43  2022    M    28                       2      0   \n",
       "1001      43  2022    M    33                       2      0   \n",
       "1002      42  2022    M    39                       2      0   \n",
       "1003      43  2022    M    37                       2      0   \n",
       "\n",
       "                  Fuente de la infección  \n",
       "0     RELACIONADO CON FUENTE DESCONOCIDA  \n",
       "1                     FUENTE DESCONOCIDA  \n",
       "2                     FUENTE DESCONOCIDA  \n",
       "3                     FUENTE DESCONOCIDA  \n",
       "4                     FUENTE DESCONOCIDA  \n",
       "...                                  ...  \n",
       "999                   FUENTE DESCONOCIDA  \n",
       "1000                  FUENTE DESCONOCIDA  \n",
       "1001                  FUENTE DESCONOCIDA  \n",
       "1002                  FUENTE DESCONOCIDA  \n",
       "1003                  FUENTE DESCONOCIDA  \n",
       "\n",
       "[1004 rows x 7 columns]"
      ]
     },
     "execution_count": 2,
     "metadata": {},
     "output_type": "execute_result"
    }
   ],
   "source": [
    "df = pd.read_excel('Casos positivos de viruela símica Medellín.xlsx')\n",
    "df"
   ]
  },
  {
   "cell_type": "code",
   "execution_count": 3,
   "id": "3c48086e-c6aa-40ad-b2b9-c6bd0269dbe5",
   "metadata": {},
   "outputs": [
    {
     "name": "stdout",
     "output_type": "stream",
     "text": [
      "<class 'pandas.core.frame.DataFrame'>\n",
      "RangeIndex: 1004 entries, 0 to 1003\n",
      "Data columns (total 7 columns):\n",
      " #   Column                  Non-Null Count  Dtype \n",
      "---  ------                  --------------  ----- \n",
      " 0   Semana                  1004 non-null   int64 \n",
      " 1   Año                     1004 non-null   int64 \n",
      " 2   Sexo                    1004 non-null   object\n",
      " 3   Edad                    1004 non-null   int64 \n",
      " 4   Vínculo epidemiológico  1004 non-null   int64 \n",
      " 5   Viajó                   1004 non-null   int64 \n",
      " 6   Fuente de la infección  1004 non-null   object\n",
      "dtypes: int64(5), object(2)\n",
      "memory usage: 55.0+ KB\n"
     ]
    }
   ],
   "source": [
    "df.info()"
   ]
  },
  {
   "cell_type": "code",
   "execution_count": 4,
   "id": "9b6cffec-fc4f-45c4-93e7-a5704ee22fca",
   "metadata": {},
   "outputs": [
    {
     "data": {
      "text/plain": [
       "<Axes: ylabel='count'>"
      ]
     },
     "execution_count": 4,
     "metadata": {},
     "output_type": "execute_result"
    },
    {
     "data": {
      "image/png": "[encoded data removed]",
      "text/plain": [
       "<Figure size 640x480 with 1 Axes>"
      ]
     },
     "metadata": {},
     "output_type": "display_data"
    }
   ],
   "source": [
    "df['Sexo'].value_counts().plot(kind='pie')"
   ]
  },
  {
   "cell_type": "code",
   "execution_count": 5,
   "id": "4c68fd62-8c3e-48b9-aa4a-9413e563394b",
   "metadata": {},
   "outputs": [
    {
     "data": {
      "text/plain": [
       "<Axes: >"
      ]
     },
     "execution_count": 5,
     "metadata": {},
     "output_type": "execute_result"
    },
    {
     "data": {
      "image/png": "[encoded data removed]",
      "text/plain": [
       "<Figure size 640x480 with 1 Axes>"
      ]
     },
     "metadata": {},
     "output_type": "display_data"
    }
   ],
   "source": [
    "df['Edad'].value_counts().plot(kind='box')"
   ]
  },
  {
   "cell_type": "markdown",
   "id": "ccd07bf0-01ad-4a6a-9c09-d00db4c0e279",
   "metadata": {},
   "source": [
    "# 2 - Normalización\n",
    "Se pide que los datos tengan media 0 y desviación estándar 1. Se decide recurrir a una función de Sklearn llamada StandardScaler\n",
    "<br>\n",
    "El proceso de normalización realizado por StandardScaler implica restar la media de los datos y luego dividir por la desviación estándar. Esto transforma los datos de manera que tengan una media de 0 y una desviación estándar de 1, lo que facilita el análisis y mejora el rendimiento de muchos algoritmos de aprendizaje automático."
   ]
  },
  {
   "cell_type": "code",
   "execution_count": 6,
   "id": "a02aa02d-88e3-4005-80eb-ae240c5f2c6c",
   "metadata": {},
   "outputs": [
    {
     "data": {
      "text/html": [
       "<div>\n",
       "<style scoped>\n",
       "    .dataframe tbody tr th:only-of-type {\n",
       "        vertical-align: middle;\n",
       "    }\n",
       "\n",
       "    .dataframe tbody tr th {\n",
       "        vertical-align: top;\n",
       "    }\n",
       "\n",
       "    .dataframe thead th {\n",
       "        text-align: right;\n",
       "    }\n",
       "</style>\n",
       "<table border=\"1\" class=\"dataframe\">\n",
       "  <thead>\n",
       "    <tr style=\"text-align: right;\">\n",
       "      <th></th>\n",
       "      <th>Semana</th>\n",
       "      <th>Año</th>\n",
       "      <th>Edad</th>\n",
       "      <th>Vínculo epidemiológico</th>\n",
       "      <th>Viajó</th>\n",
       "      <th>Fuente de la infección</th>\n",
       "      <th>Sexo</th>\n",
       "    </tr>\n",
       "  </thead>\n",
       "  <tbody>\n",
       "    <tr>\n",
       "      <th>0</th>\n",
       "      <td>-0.105598</td>\n",
       "      <td>-0.054745</td>\n",
       "      <td>0.499811</td>\n",
       "      <td>-4.153859</td>\n",
       "      <td>-0.178494</td>\n",
       "      <td>RELACIONADO CON FUENTE DESCONOCIDA</td>\n",
       "      <td>0.192847</td>\n",
       "    </tr>\n",
       "    <tr>\n",
       "      <th>1</th>\n",
       "      <td>-1.129950</td>\n",
       "      <td>-0.054745</td>\n",
       "      <td>-0.787481</td>\n",
       "      <td>0.240740</td>\n",
       "      <td>-0.178494</td>\n",
       "      <td>FUENTE DESCONOCIDA</td>\n",
       "      <td>0.192847</td>\n",
       "    </tr>\n",
       "    <tr>\n",
       "      <th>2</th>\n",
       "      <td>-0.105598</td>\n",
       "      <td>-0.054745</td>\n",
       "      <td>0.499811</td>\n",
       "      <td>0.240740</td>\n",
       "      <td>-0.178494</td>\n",
       "      <td>FUENTE DESCONOCIDA</td>\n",
       "      <td>0.192847</td>\n",
       "    </tr>\n",
       "    <tr>\n",
       "      <th>3</th>\n",
       "      <td>-0.873862</td>\n",
       "      <td>-0.054745</td>\n",
       "      <td>-0.202349</td>\n",
       "      <td>0.240740</td>\n",
       "      <td>-0.178494</td>\n",
       "      <td>FUENTE DESCONOCIDA</td>\n",
       "      <td>0.192847</td>\n",
       "    </tr>\n",
       "    <tr>\n",
       "      <th>4</th>\n",
       "      <td>-0.617774</td>\n",
       "      <td>-0.054745</td>\n",
       "      <td>0.031704</td>\n",
       "      <td>0.240740</td>\n",
       "      <td>-0.178494</td>\n",
       "      <td>FUENTE DESCONOCIDA</td>\n",
       "      <td>0.192847</td>\n",
       "    </tr>\n",
       "    <tr>\n",
       "      <th>...</th>\n",
       "      <td>...</td>\n",
       "      <td>...</td>\n",
       "      <td>...</td>\n",
       "      <td>...</td>\n",
       "      <td>...</td>\n",
       "      <td>...</td>\n",
       "      <td>...</td>\n",
       "    </tr>\n",
       "    <tr>\n",
       "      <th>999</th>\n",
       "      <td>0.918754</td>\n",
       "      <td>-0.054745</td>\n",
       "      <td>-0.787481</td>\n",
       "      <td>0.240740</td>\n",
       "      <td>-0.178494</td>\n",
       "      <td>FUENTE DESCONOCIDA</td>\n",
       "      <td>0.192847</td>\n",
       "    </tr>\n",
       "    <tr>\n",
       "      <th>1000</th>\n",
       "      <td>1.430930</td>\n",
       "      <td>-0.054745</td>\n",
       "      <td>-0.553428</td>\n",
       "      <td>0.240740</td>\n",
       "      <td>-0.178494</td>\n",
       "      <td>FUENTE DESCONOCIDA</td>\n",
       "      <td>0.192847</td>\n",
       "    </tr>\n",
       "    <tr>\n",
       "      <th>1001</th>\n",
       "      <td>1.430930</td>\n",
       "      <td>-0.054745</td>\n",
       "      <td>0.031704</td>\n",
       "      <td>0.240740</td>\n",
       "      <td>-0.178494</td>\n",
       "      <td>FUENTE DESCONOCIDA</td>\n",
       "      <td>0.192847</td>\n",
       "    </tr>\n",
       "    <tr>\n",
       "      <th>1002</th>\n",
       "      <td>1.174842</td>\n",
       "      <td>-0.054745</td>\n",
       "      <td>0.733864</td>\n",
       "      <td>0.240740</td>\n",
       "      <td>-0.178494</td>\n",
       "      <td>FUENTE DESCONOCIDA</td>\n",
       "      <td>0.192847</td>\n",
       "    </tr>\n",
       "    <tr>\n",
       "      <th>1003</th>\n",
       "      <td>1.430930</td>\n",
       "      <td>-0.054745</td>\n",
       "      <td>0.499811</td>\n",
       "      <td>0.240740</td>\n",
       "      <td>-0.178494</td>\n",
       "      <td>FUENTE DESCONOCIDA</td>\n",
       "      <td>0.192847</td>\n",
       "    </tr>\n",
       "  </tbody>\n",
       "</table>\n",
       "<p>1004 rows × 7 columns</p>\n",
       "</div>"
      ],
      "text/plain": [
       "        Semana       Año      Edad  Vínculo epidemiológico     Viajó   \n",
       "0    -0.105598 -0.054745  0.499811               -4.153859 -0.178494  \\\n",
       "1    -1.129950 -0.054745 -0.787481                0.240740 -0.178494   \n",
       "2    -0.105598 -0.054745  0.499811                0.240740 -0.178494   \n",
       "3    -0.873862 -0.054745 -0.202349                0.240740 -0.178494   \n",
       "4    -0.617774 -0.054745  0.031704                0.240740 -0.178494   \n",
       "...        ...       ...       ...                     ...       ...   \n",
       "999   0.918754 -0.054745 -0.787481                0.240740 -0.178494   \n",
       "1000  1.430930 -0.054745 -0.553428                0.240740 -0.178494   \n",
       "1001  1.430930 -0.054745  0.031704                0.240740 -0.178494   \n",
       "1002  1.174842 -0.054745  0.733864                0.240740 -0.178494   \n",
       "1003  1.430930 -0.054745  0.499811                0.240740 -0.178494   \n",
       "\n",
       "                  Fuente de la infección      Sexo  \n",
       "0     RELACIONADO CON FUENTE DESCONOCIDA  0.192847  \n",
       "1                     FUENTE DESCONOCIDA  0.192847  \n",
       "2                     FUENTE DESCONOCIDA  0.192847  \n",
       "3                     FUENTE DESCONOCIDA  0.192847  \n",
       "4                     FUENTE DESCONOCIDA  0.192847  \n",
       "...                                  ...       ...  \n",
       "999                   FUENTE DESCONOCIDA  0.192847  \n",
       "1000                  FUENTE DESCONOCIDA  0.192847  \n",
       "1001                  FUENTE DESCONOCIDA  0.192847  \n",
       "1002                  FUENTE DESCONOCIDA  0.192847  \n",
       "1003                  FUENTE DESCONOCIDA  0.192847  \n",
       "\n",
       "[1004 rows x 7 columns]"
      ]
     },
     "execution_count": 6,
     "metadata": {},
     "output_type": "execute_result"
    }
   ],
   "source": [
    "# Convertir columna 'Sexo' en variables ficticias (dummies)\n",
    "columna_categorica = 'Sexo'\n",
    "variables_dummies = pd.get_dummies(df[columna_categorica], prefix=columna_categorica, drop_first=True)\n",
    "\n",
    "# Reemplazar False y True por 0 y 1 en las variables ficticias\n",
    "variables_dummies = variables_dummies.astype(int)\n",
    "\n",
    "# Concatenar variables ficticias al DataFrame original\n",
    "df = pd.concat([df, variables_dummies], axis=1)\n",
    "\n",
    "# Eliminar columna 'Sexo' original\n",
    "df.drop(columna_categorica, axis=1, inplace=True)\n",
    "\n",
    "#Conservar el nombre de la variable original\n",
    "df = df.rename(columns={'Sexo_M': columna_categorica})\n",
    "\n",
    "# Columnas numéricas para aplicar StandardScaler\n",
    "columnas_numericas = ['Semana', 'Año', 'Edad', 'Vínculo epidemiológico', 'Viajó', 'Sexo']\n",
    "\n",
    "# Crear objeto StandardScaler\n",
    "scaler = StandardScaler()\n",
    "\n",
    "# Aplicar StandardScaler a las columnas numéricas en df\n",
    "df[columnas_numericas] = scaler.fit_transform(df[columnas_numericas])\n",
    "\n",
    "df"
   ]
  },
  {
   "cell_type": "markdown",
   "id": "34fc8881-42b1-4b5b-b6b3-b8e1dd66ee3c",
   "metadata": {},
   "source": [
    "# 3 - Balanceo\n"
   ]
  },
  {
   "cell_type": "code",
   "execution_count": 7,
   "id": "31516354-f2f7-45f3-906c-b7731ae07105",
   "metadata": {},
   "outputs": [
    {
     "data": {
      "text/plain": [
       "<Axes: xlabel='Fuente de la infección'>"
      ]
     },
     "execution_count": 7,
     "metadata": {},
     "output_type": "execute_result"
    },
    {
     "data": {
      "image/png": "[encoded data removed]",
      "text/plain": [
       "<Figure size 640x480 with 1 Axes>"
      ]
     },
     "metadata": {},
     "output_type": "display_data"
    }
   ],
   "source": [
    "df['Fuente de la infección'].value_counts().plot(kind='bar')"
   ]
  },
  {
   "cell_type": "markdown",
   "id": "96bce7db-c7ff-4014-83d2-b68c6b89eba0",
   "metadata": {},
   "source": [
    "Se puede evidenciar un desbalanceo en los datos de la variable objetivo, esto implica que el modelo sea muy bueno prediciendo FUENTE DESCONOCIDA pero no las otras 3 opciones.\n",
    "<br>\n",
    "Por lo tanto, se decide usar una técnica llamada SMOTE (Synthetic Minority Over-sampling Technique), que es una técnica de sobremuestreo utilizada para abordar el desequilibrio de clases en conjuntos de datos."
   ]
  },
  {
   "cell_type": "code",
   "execution_count": 8,
   "id": "efc77bea-becd-4b36-8d4f-e5cb3762f095",
   "metadata": {},
   "outputs": [],
   "source": [
    "# Se elimina la columna \"Fuente de la infección\" del DataFrame original y se asigna a la variable X\n",
    "X = df.drop('Fuente de la infección', axis=1)\n",
    "y = df['Fuente de la infección']"
   ]
  },
  {
   "cell_type": "code",
   "execution_count": 9,
   "id": "cd8c9ad9-c483-4157-8dd8-e5b5cbca7d1f",
   "metadata": {},
   "outputs": [
    {
     "data": {
      "text/html": [
       "<div>\n",
       "<style scoped>\n",
       "    .dataframe tbody tr th:only-of-type {\n",
       "        vertical-align: middle;\n",
       "    }\n",
       "\n",
       "    .dataframe tbody tr th {\n",
       "        vertical-align: top;\n",
       "    }\n",
       "\n",
       "    .dataframe thead th {\n",
       "        text-align: right;\n",
       "    }\n",
       "</style>\n",
       "<table border=\"1\" class=\"dataframe\">\n",
       "  <thead>\n",
       "    <tr style=\"text-align: right;\">\n",
       "      <th></th>\n",
       "      <th>Semana</th>\n",
       "      <th>Año</th>\n",
       "      <th>Edad</th>\n",
       "      <th>Vínculo epidemiológico</th>\n",
       "      <th>Viajó</th>\n",
       "      <th>Sexo</th>\n",
       "      <th>Fuente de la infección</th>\n",
       "    </tr>\n",
       "  </thead>\n",
       "  <tbody>\n",
       "    <tr>\n",
       "      <th>0</th>\n",
       "      <td>-0.105598</td>\n",
       "      <td>-0.054745</td>\n",
       "      <td>0.499811</td>\n",
       "      <td>-4.153859</td>\n",
       "      <td>-0.178494</td>\n",
       "      <td>0.192847</td>\n",
       "      <td>RELACIONADO CON FUENTE DESCONOCIDA</td>\n",
       "    </tr>\n",
       "    <tr>\n",
       "      <th>1</th>\n",
       "      <td>-1.129950</td>\n",
       "      <td>-0.054745</td>\n",
       "      <td>-0.787481</td>\n",
       "      <td>0.240740</td>\n",
       "      <td>-0.178494</td>\n",
       "      <td>0.192847</td>\n",
       "      <td>FUENTE DESCONOCIDA</td>\n",
       "    </tr>\n",
       "    <tr>\n",
       "      <th>2</th>\n",
       "      <td>-0.105598</td>\n",
       "      <td>-0.054745</td>\n",
       "      <td>0.499811</td>\n",
       "      <td>0.240740</td>\n",
       "      <td>-0.178494</td>\n",
       "      <td>0.192847</td>\n",
       "      <td>FUENTE DESCONOCIDA</td>\n",
       "    </tr>\n",
       "    <tr>\n",
       "      <th>3</th>\n",
       "      <td>-0.873862</td>\n",
       "      <td>-0.054745</td>\n",
       "      <td>-0.202349</td>\n",
       "      <td>0.240740</td>\n",
       "      <td>-0.178494</td>\n",
       "      <td>0.192847</td>\n",
       "      <td>FUENTE DESCONOCIDA</td>\n",
       "    </tr>\n",
       "    <tr>\n",
       "      <th>4</th>\n",
       "      <td>-0.617774</td>\n",
       "      <td>-0.054745</td>\n",
       "      <td>0.031704</td>\n",
       "      <td>0.240740</td>\n",
       "      <td>-0.178494</td>\n",
       "      <td>0.192847</td>\n",
       "      <td>FUENTE DESCONOCIDA</td>\n",
       "    </tr>\n",
       "    <tr>\n",
       "      <th>...</th>\n",
       "      <td>...</td>\n",
       "      <td>...</td>\n",
       "      <td>...</td>\n",
       "      <td>...</td>\n",
       "      <td>...</td>\n",
       "      <td>...</td>\n",
       "      <td>...</td>\n",
       "    </tr>\n",
       "    <tr>\n",
       "      <th>3791</th>\n",
       "      <td>-0.238412</td>\n",
       "      <td>-0.054745</td>\n",
       "      <td>-0.535991</td>\n",
       "      <td>-4.153859</td>\n",
       "      <td>-0.178494</td>\n",
       "      <td>0.192847</td>\n",
       "      <td>RELACIONADO CON LA IMPORTACION</td>\n",
       "    </tr>\n",
       "    <tr>\n",
       "      <th>3792</th>\n",
       "      <td>-0.867282</td>\n",
       "      <td>-0.054745</td>\n",
       "      <td>-0.431891</td>\n",
       "      <td>-4.153859</td>\n",
       "      <td>-0.178494</td>\n",
       "      <td>0.192847</td>\n",
       "      <td>RELACIONADO CON LA IMPORTACION</td>\n",
       "    </tr>\n",
       "    <tr>\n",
       "      <th>3793</th>\n",
       "      <td>-0.105598</td>\n",
       "      <td>-0.054745</td>\n",
       "      <td>-0.475294</td>\n",
       "      <td>-4.153859</td>\n",
       "      <td>-0.178494</td>\n",
       "      <td>0.192847</td>\n",
       "      <td>RELACIONADO CON LA IMPORTACION</td>\n",
       "    </tr>\n",
       "    <tr>\n",
       "      <th>3794</th>\n",
       "      <td>-0.105598</td>\n",
       "      <td>-0.054745</td>\n",
       "      <td>-0.191601</td>\n",
       "      <td>-4.153859</td>\n",
       "      <td>-0.178494</td>\n",
       "      <td>0.192847</td>\n",
       "      <td>RELACIONADO CON LA IMPORTACION</td>\n",
       "    </tr>\n",
       "    <tr>\n",
       "      <th>3795</th>\n",
       "      <td>-0.361686</td>\n",
       "      <td>-0.054745</td>\n",
       "      <td>0.099576</td>\n",
       "      <td>-4.153859</td>\n",
       "      <td>0.963213</td>\n",
       "      <td>0.192847</td>\n",
       "      <td>RELACIONADO CON LA IMPORTACION</td>\n",
       "    </tr>\n",
       "  </tbody>\n",
       "</table>\n",
       "<p>3796 rows × 7 columns</p>\n",
       "</div>"
      ],
      "text/plain": [
       "        Semana       Año      Edad  Vínculo epidemiológico     Viajó   \n",
       "0    -0.105598 -0.054745  0.499811               -4.153859 -0.178494  \\\n",
       "1    -1.129950 -0.054745 -0.787481                0.240740 -0.178494   \n",
       "2    -0.105598 -0.054745  0.499811                0.240740 -0.178494   \n",
       "3    -0.873862 -0.054745 -0.202349                0.240740 -0.178494   \n",
       "4    -0.617774 -0.054745  0.031704                0.240740 -0.178494   \n",
       "...        ...       ...       ...                     ...       ...   \n",
       "3791 -0.238412 -0.054745 -0.535991               -4.153859 -0.178494   \n",
       "3792 -0.867282 -0.054745 -0.431891               -4.153859 -0.178494   \n",
       "3793 -0.105598 -0.054745 -0.475294               -4.153859 -0.178494   \n",
       "3794 -0.105598 -0.054745 -0.191601               -4.153859 -0.178494   \n",
       "3795 -0.361686 -0.054745  0.099576               -4.153859  0.963213   \n",
       "\n",
       "          Sexo              Fuente de la infección  \n",
       "0     0.192847  RELACIONADO CON FUENTE DESCONOCIDA  \n",
       "1     0.192847                  FUENTE DESCONOCIDA  \n",
       "2     0.192847                  FUENTE DESCONOCIDA  \n",
       "3     0.192847                  FUENTE DESCONOCIDA  \n",
       "4     0.192847                  FUENTE DESCONOCIDA  \n",
       "...        ...                                 ...  \n",
       "3791  0.192847      RELACIONADO CON LA IMPORTACION  \n",
       "3792  0.192847      RELACIONADO CON LA IMPORTACION  \n",
       "3793  0.192847      RELACIONADO CON LA IMPORTACION  \n",
       "3794  0.192847      RELACIONADO CON LA IMPORTACION  \n",
       "3795  0.192847      RELACIONADO CON LA IMPORTACION  \n",
       "\n",
       "[3796 rows x 7 columns]"
      ]
     },
     "execution_count": 9,
     "metadata": {},
     "output_type": "execute_result"
    }
   ],
   "source": [
    "# Se crea una instancia de SMOTE (Synthetic Minority Over-sampling Technique)\n",
    "smote = SMOTE()\n",
    "\n",
    "# Se aplica SMOTE para generar un conjunto de datos de entrenamiento balanceado\n",
    "X_resampled, y_resampled = smote.fit_resample(X, y)\n",
    "\n",
    "# Se concatenan los conjuntos de datos balanceados en un nuevo DataFrame\n",
    "balanced_df = pd.concat([pd.DataFrame(X_resampled), pd.DataFrame(y_resampled)], axis=1)\n",
    "\n",
    "balanced_df"
   ]
  },
  {
   "cell_type": "code",
   "execution_count": 10,
   "id": "285e0eea-9696-43e6-af85-518edd524438",
   "metadata": {},
   "outputs": [
    {
     "data": {
      "text/plain": [
       "<Axes: xlabel='Fuente de la infección'>"
      ]
     },
     "execution_count": 10,
     "metadata": {},
     "output_type": "execute_result"
    },
    {
     "data": {
      "image/png": "[encoded data removed]",
      "text/plain": [
       "<Figure size 640x480 with 1 Axes>"
      ]
     },
     "metadata": {},
     "output_type": "display_data"
    }
   ],
   "source": [
    "balanced_df['Fuente de la infección'].value_counts().plot(kind='bar')"
   ]
  },
  {
   "cell_type": "markdown",
   "id": "90cb5e8d-a36d-4222-9164-640aeb1b15f9",
   "metadata": {},
   "source": [
    "# 4 - Modelo de clasificación con Redes Neuronales\n"
   ]
  },
  {
   "cell_type": "code",
   "execution_count": 11,
   "id": "ddcf250e-9b5f-4499-be96-5d4f9247aea2",
   "metadata": {},
   "outputs": [],
   "source": [
    "#Se asigna las variables explicativas balanceadas a X y la predictora balanceada y\n",
    "X = balanced_df.drop('Fuente de la infección', axis=1)\n",
    "y = balanced_df['Fuente de la infección']"
   ]
  },
  {
   "cell_type": "code",
   "execution_count": 12,
   "id": "cae7a4db-1bf1-4f0f-b23e-c525f8f1363a",
   "metadata": {},
   "outputs": [
    {
     "data": {
      "text/plain": [
       "Fuente de la infección\n",
       "FUENTE DESCONOCIDA                    665\n",
       "RELACIONADO CON FUENTE DESCONOCIDA    664\n",
       "RELACIONADO CON LA IMPORTACION        664\n",
       "IMPORTADO                             664\n",
       "Name: count, dtype: int64"
      ]
     },
     "execution_count": 12,
     "metadata": {},
     "output_type": "execute_result"
    }
   ],
   "source": [
    "#División 70-30\n",
    "from sklearn.model_selection import train_test_split\n",
    "X_train, X_test, y_train, y_test = train_test_split(X, y, test_size=0.3, stratify=y)\n",
    "y_train.value_counts()"
   ]
  },
  {
   "cell_type": "code",
   "execution_count": 13,
   "id": "de17c4c5-0907-4c35-8ea4-317f9fe50e81",
   "metadata": {},
   "outputs": [
    {
     "data": {
      "text/html": [
       "<style>#sk-container-id-1 {color: black;background-color: white;}#sk-container-id-1 pre{padding: 0;}#sk-container-id-1 div.sk-toggleable {background-color: white;}#sk-container-id-1 label.sk-toggleable__label {cursor: pointer;display: block;width: 100%;margin-bottom: 0;padding: 0.3em;box-sizing: border-box;text-align: center;}#sk-container-id-1 label.sk-toggleable__label-arrow:before {content: \"▸\";float: left;margin-right: 0.25em;color: #696969;}#sk-container-id-1 label.sk-toggleable__label-arrow:hover:before {color: black;}#sk-container-id-1 div.sk-estimator:hover label.sk-toggleable__label-arrow:before {color: black;}#sk-container-id-1 div.sk-toggleable__content {max-height: 0;max-width: 0;overflow: hidden;text-align: left;background-color: #f0f8ff;}#sk-container-id-1 div.sk-toggleable__content pre {margin: 0.2em;color: black;border-radius: 0.25em;background-color: #f0f8ff;}#sk-container-id-1 input.sk-toggleable__control:checked~div.sk-toggleable__content {max-height: 200px;max-width: 100%;overflow: auto;}#sk-container-id-1 input.sk-toggleable__control:checked~label.sk-toggleable__label-arrow:before {content: \"▾\";}#sk-container-id-1 div.sk-estimator input.sk-toggleable__control:checked~label.sk-toggleable__label {background-color: #d4ebff;}#sk-container-id-1 div.sk-label input.sk-toggleable__control:checked~label.sk-toggleable__label {background-color: #d4ebff;}#sk-container-id-1 input.sk-hidden--visually {border: 0;clip: rect(1px 1px 1px 1px);clip: rect(1px, 1px, 1px, 1px);height: 1px;margin: -1px;overflow: hidden;padding: 0;position: absolute;width: 1px;}#sk-container-id-1 div.sk-estimator {font-family: monospace;background-color: #f0f8ff;border: 1px dotted black;border-radius: 0.25em;box-sizing: border-box;margin-bottom: 0.5em;}#sk-container-id-1 div.sk-estimator:hover {background-color: #d4ebff;}#sk-container-id-1 div.sk-parallel-item::after {content: \"\";width: 100%;border-bottom: 1px solid gray;flex-grow: 1;}#sk-container-id-1 div.sk-label:hover label.sk-toggleable__label {background-color: #d4ebff;}#sk-container-id-1 div.sk-serial::before {content: \"\";position: absolute;border-left: 1px solid gray;box-sizing: border-box;top: 0;bottom: 0;left: 50%;z-index: 0;}#sk-container-id-1 div.sk-serial {display: flex;flex-direction: column;align-items: center;background-color: white;padding-right: 0.2em;padding-left: 0.2em;position: relative;}#sk-container-id-1 div.sk-item {position: relative;z-index: 1;}#sk-container-id-1 div.sk-parallel {display: flex;align-items: stretch;justify-content: center;background-color: white;position: relative;}#sk-container-id-1 div.sk-item::before, #sk-container-id-1 div.sk-parallel-item::before {content: \"\";position: absolute;border-left: 1px solid gray;box-sizing: border-box;top: 0;bottom: 0;left: 50%;z-index: -1;}#sk-container-id-1 div.sk-parallel-item {display: flex;flex-direction: column;z-index: 1;position: relative;background-color: white;}#sk-container-id-1 div.sk-parallel-item:first-child::after {align-self: flex-end;width: 50%;}#sk-container-id-1 div.sk-parallel-item:last-child::after {align-self: flex-start;width: 50%;}#sk-container-id-1 div.sk-parallel-item:only-child::after {width: 0;}#sk-container-id-1 div.sk-dashed-wrapped {border: 1px dashed gray;margin: 0 0.4em 0.5em 0.4em;box-sizing: border-box;padding-bottom: 0.4em;background-color: white;}#sk-container-id-1 div.sk-label label {font-family: monospace;font-weight: bold;display: inline-block;line-height: 1.2em;}#sk-container-id-1 div.sk-label-container {text-align: center;}#sk-container-id-1 div.sk-container {/* jupyter's `normalize.less` sets `[hidden] { display: none; }` but bootstrap.min.css set `[hidden] { display: none !important; }` so we also need the `!important` here to be able to override the default hidden behavior on the sphinx rendered scikit-learn.org. See: https://github.com/scikit-learn/scikit-learn/issues/21755 */display: inline-block !important;position: relative;}#sk-container-id-1 div.sk-text-repr-fallback {display: none;}</style><div id=\"sk-container-id-1\" class=\"sk-top-container\"><div class=\"sk-text-repr-fallback\"><pre>MLPClassifier(activation=&#x27;logistic&#x27;, alpha=1e-05, hidden_layer_sizes=50,\n",
       "              learning_rate_init=0.01, max_iter=500, random_state=42)</pre><b>In a Jupyter environment, please rerun this cell to show the HTML representation or trust the notebook. <br />On GitHub, the HTML representation is unable to render, please try loading this page with nbviewer.org.</b></div><div class=\"sk-container\" hidden><div class=\"sk-item\"><div class=\"sk-estimator sk-toggleable\"><input class=\"sk-toggleable__control sk-hidden--visually\" id=\"sk-estimator-id-1\" type=\"checkbox\" checked><label for=\"sk-estimator-id-1\" class=\"sk-toggleable__label sk-toggleable__label-arrow\">MLPClassifier</label><div class=\"sk-toggleable__content\"><pre>MLPClassifier(activation=&#x27;logistic&#x27;, alpha=1e-05, hidden_layer_sizes=50,\n",
       "              learning_rate_init=0.01, max_iter=500, random_state=42)</pre></div></div></div></div></div>"
      ],
      "text/plain": [
       "MLPClassifier(activation='logistic', alpha=1e-05, hidden_layer_sizes=50,\n",
       "              learning_rate_init=0.01, max_iter=500, random_state=42)"
      ]
     },
     "execution_count": 13,
     "metadata": {},
     "output_type": "execute_result"
    }
   ],
   "source": [
    "#Creacion del modelo\n",
    "from sklearn.neural_network import MLPClassifier\n",
    "model= MLPClassifier(solver='adam',learning_rate_init=0.01, alpha=1e-5, hidden_layer_sizes=(50), random_state=42, activation=\"logistic\",\n",
    "                    max_iter=500)\n",
    "model.fit(X_train,y_train)"
   ]
  },
  {
   "cell_type": "code",
   "execution_count": 14,
   "id": "f60108bb-00b0-4616-8494-4fc1c03d8e17",
   "metadata": {},
   "outputs": [
    {
     "name": "stderr",
     "output_type": "stream",
     "text": [
      "/Users/samuelperezh/anaconda3/envs/upb/lib/python3.11/site-packages/sklearn/neural_network/_multilayer_perceptron.py:686: ConvergenceWarning: Stochastic Optimizer: Maximum iterations (500) reached and the optimization hasn't converged yet.\n",
      "  warnings.warn(\n"
     ]
    },
    {
     "data": {
      "text/html": [
       "<style>#sk-container-id-2 {color: black;background-color: white;}#sk-container-id-2 pre{padding: 0;}#sk-container-id-2 div.sk-toggleable {background-color: white;}#sk-container-id-2 label.sk-toggleable__label {cursor: pointer;display: block;width: 100%;margin-bottom: 0;padding: 0.3em;box-sizing: border-box;text-align: center;}#sk-container-id-2 label.sk-toggleable__label-arrow:before {content: \"▸\";float: left;margin-right: 0.25em;color: #696969;}#sk-container-id-2 label.sk-toggleable__label-arrow:hover:before {color: black;}#sk-container-id-2 div.sk-estimator:hover label.sk-toggleable__label-arrow:before {color: black;}#sk-container-id-2 div.sk-toggleable__content {max-height: 0;max-width: 0;overflow: hidden;text-align: left;background-color: #f0f8ff;}#sk-container-id-2 div.sk-toggleable__content pre {margin: 0.2em;color: black;border-radius: 0.25em;background-color: #f0f8ff;}#sk-container-id-2 input.sk-toggleable__control:checked~div.sk-toggleable__content {max-height: 200px;max-width: 100%;overflow: auto;}#sk-container-id-2 input.sk-toggleable__control:checked~label.sk-toggleable__label-arrow:before {content: \"▾\";}#sk-container-id-2 div.sk-estimator input.sk-toggleable__control:checked~label.sk-toggleable__label {background-color: #d4ebff;}#sk-container-id-2 div.sk-label input.sk-toggleable__control:checked~label.sk-toggleable__label {background-color: #d4ebff;}#sk-container-id-2 input.sk-hidden--visually {border: 0;clip: rect(1px 1px 1px 1px);clip: rect(1px, 1px, 1px, 1px);height: 1px;margin: -1px;overflow: hidden;padding: 0;position: absolute;width: 1px;}#sk-container-id-2 div.sk-estimator {font-family: monospace;background-color: #f0f8ff;border: 1px dotted black;border-radius: 0.25em;box-sizing: border-box;margin-bottom: 0.5em;}#sk-container-id-2 div.sk-estimator:hover {background-color: #d4ebff;}#sk-container-id-2 div.sk-parallel-item::after {content: \"\";width: 100%;border-bottom: 1px solid gray;flex-grow: 1;}#sk-container-id-2 div.sk-label:hover label.sk-toggleable__label {background-color: #d4ebff;}#sk-container-id-2 div.sk-serial::before {content: \"\";position: absolute;border-left: 1px solid gray;box-sizing: border-box;top: 0;bottom: 0;left: 50%;z-index: 0;}#sk-container-id-2 div.sk-serial {display: flex;flex-direction: column;align-items: center;background-color: white;padding-right: 0.2em;padding-left: 0.2em;position: relative;}#sk-container-id-2 div.sk-item {position: relative;z-index: 1;}#sk-container-id-2 div.sk-parallel {display: flex;align-items: stretch;justify-content: center;background-color: white;position: relative;}#sk-container-id-2 div.sk-item::before, #sk-container-id-2 div.sk-parallel-item::before {content: \"\";position: absolute;border-left: 1px solid gray;box-sizing: border-box;top: 0;bottom: 0;left: 50%;z-index: -1;}#sk-container-id-2 div.sk-parallel-item {display: flex;flex-direction: column;z-index: 1;position: relative;background-color: white;}#sk-container-id-2 div.sk-parallel-item:first-child::after {align-self: flex-end;width: 50%;}#sk-container-id-2 div.sk-parallel-item:last-child::after {align-self: flex-start;width: 50%;}#sk-container-id-2 div.sk-parallel-item:only-child::after {width: 0;}#sk-container-id-2 div.sk-dashed-wrapped {border: 1px dashed gray;margin: 0 0.4em 0.5em 0.4em;box-sizing: border-box;padding-bottom: 0.4em;background-color: white;}#sk-container-id-2 div.sk-label label {font-family: monospace;font-weight: bold;display: inline-block;line-height: 1.2em;}#sk-container-id-2 div.sk-label-container {text-align: center;}#sk-container-id-2 div.sk-container {/* jupyter's `normalize.less` sets `[hidden] { display: none; }` but bootstrap.min.css set `[hidden] { display: none !important; }` so we also need the `!important` here to be able to override the default hidden behavior on the sphinx rendered scikit-learn.org. See: https://github.com/scikit-learn/scikit-learn/issues/21755 */display: inline-block !important;position: relative;}#sk-container-id-2 div.sk-text-repr-fallback {display: none;}</style><div id=\"sk-container-id-2\" class=\"sk-top-container\"><div class=\"sk-text-repr-fallback\"><pre>MLPClassifier(activation=&#x27;logistic&#x27;, alpha=1e-05, hidden_layer_sizes=45,\n",
       "              learning_rate_init=0.005, max_iter=500, random_state=42)</pre><b>In a Jupyter environment, please rerun this cell to show the HTML representation or trust the notebook. <br />On GitHub, the HTML representation is unable to render, please try loading this page with nbviewer.org.</b></div><div class=\"sk-container\" hidden><div class=\"sk-item\"><div class=\"sk-estimator sk-toggleable\"><input class=\"sk-toggleable__control sk-hidden--visually\" id=\"sk-estimator-id-2\" type=\"checkbox\" checked><label for=\"sk-estimator-id-2\" class=\"sk-toggleable__label sk-toggleable__label-arrow\">MLPClassifier</label><div class=\"sk-toggleable__content\"><pre>MLPClassifier(activation=&#x27;logistic&#x27;, alpha=1e-05, hidden_layer_sizes=45,\n",
       "              learning_rate_init=0.005, max_iter=500, random_state=42)</pre></div></div></div></div></div>"
      ],
      "text/plain": [
       "MLPClassifier(activation='logistic', alpha=1e-05, hidden_layer_sizes=45,\n",
       "              learning_rate_init=0.005, max_iter=500, random_state=42)"
      ]
     },
     "execution_count": 14,
     "metadata": {},
     "output_type": "execute_result"
    }
   ],
   "source": [
    "#Creacion del modelo\n",
    "from sklearn.neural_network import MLPClassifier\n",
    "model= MLPClassifier(solver='adam',learning_rate_init=0.005, alpha=1e-5, hidden_layer_sizes=(45), random_state=42, activation=\"logistic\",\n",
    "                    max_iter=500)\n",
    "model.fit(X_train,y_train)"
   ]
  },
  {
   "cell_type": "code",
   "execution_count": 15,
   "id": "b129135b-708c-4ba8-b458-2530aa4690e5",
   "metadata": {},
   "outputs": [
    {
     "data": {
      "text/plain": [
       "[<matplotlib.lines.Line2D at 0x16b2ad550>]"
      ]
     },
     "execution_count": 15,
     "metadata": {},
     "output_type": "execute_result"
    },
    {
     "data": {
      "image/png": "[encoded data removed]",
      "text/plain": [
       "<Figure size 640x480 with 1 Axes>"
      ]
     },
     "metadata": {},
     "output_type": "display_data"
    }
   ],
   "source": [
    "#Loss es la desviacion entre Y_train y el Y_pred\n",
    "loss_values= model.loss_curve_\n",
    "plt.plot(loss_values)"
   ]
  },
  {
   "cell_type": "code",
   "execution_count": 16,
   "id": "3cac3005-97aa-43b0-a59f-0009731f9682",
   "metadata": {},
   "outputs": [],
   "source": [
    "# Ejecutar este código para ver los thetas y los interceptos\n",
    "# print(model.coefs_)\n",
    "# print(model.intercepts_)"
   ]
  },
  {
   "cell_type": "markdown",
   "id": "1d28afdf-3ffa-471e-97b0-593cd2b563b6",
   "metadata": {},
   "source": [
    "# 5 - Métricas del rendimiento del clasificador"
   ]
  },
  {
   "cell_type": "code",
   "execution_count": 17,
   "id": "378366a4-3b22-4308-8f4a-76295b42819f",
   "metadata": {},
   "outputs": [],
   "source": [
    "y_test_pred = model.predict(X_test)"
   ]
  },
  {
   "cell_type": "markdown",
   "id": "79b8f6ac-f621-4f4b-81fb-a24add583957",
   "metadata": {},
   "source": [
    "Al ser una red neuronal, esta se puede evaluar de diferentes maneras usando el parámetro average:\n",
    "<br>\n",
    "**Micro:** El uso de micro implica calcular las métricas globales agregando los recuentos totales de verdaderos positivos, falsos positivos y falsos negativos en todas las clases. Es útil cuando te interesa tener una visión general del rendimiento global del modelo en todo el conjunto de datos, sin importar el desequilibrio de clases. Se da el mismo peso a cada instancia y cada predicción.\n",
    "<br>\n",
    "**Weighted:** El uso de weighted implica calcular las métricas por clase y ponderarlas por el soporte de cada clase (número de instancias verdaderas de la clase). Es útil cuando deseas tener en cuenta el desequilibrio de clases al calcular las métricas. Las clases con mayor número de instancias tendrán un impacto mayor en el cálculo de las métricas. Se asigna un peso proporcional al tamaño de cada clase."
   ]
  },
  {
   "cell_type": "code",
   "execution_count": 18,
   "id": "8d6934f9-d211-47e6-9878-8ffa38a9f1d6",
   "metadata": {},
   "outputs": [
    {
     "name": "stdout",
     "output_type": "stream",
     "text": [
      "Exactitud: 0.8700614574187884\n",
      "Precisión: 0.8784322186684819 0.8700614574187884\n",
      "Sensibilidad: 0.8700614574187884 0.8700614574187884\n",
      "F1 Score: 0.871110116996447 0.8700614574187884\n"
     ]
    }
   ],
   "source": [
    "#Exactitud\n",
    "accuracy = accuracy_score(y_test, y_test_pred)\n",
    "\n",
    "#Precisión\n",
    "precision_weighted = precision_score(y_test, y_test_pred, average='weighted')\n",
    "precision_micro = precision_score(y_test, y_test_pred, average='micro')\n",
    "\n",
    "#Sensibilidad (recall)\n",
    "recall_weighted = recall_score(y_test, y_test_pred, average='weighted')\n",
    "recall_micro = recall_score(y_test, y_test_pred, average='micro')\n",
    "\n",
    "#F1 score\n",
    "f1_weighted = f1_score(y_test, y_test_pred, average='weighted')\n",
    "f1_micro = f1_score(y_test, y_test_pred, average='micro')\n",
    "\n",
    "#Métricas\n",
    "print(\"Exactitud:\", accuracy)\n",
    "print(\"Precisión:\", precision_weighted, precision_micro)\n",
    "print(\"Sensibilidad:\", recall_weighted, recall_micro)\n",
    "print(\"F1 Score:\", f1_weighted, f1_micro)"
   ]
  },
  {
   "cell_type": "markdown",
   "id": "2cf24603-6ddc-4474-bd2a-e5ba96c1d852",
   "metadata": {},
   "source": [
    "# 6 - Matriz de confusión"
   ]
  },
  {
   "cell_type": "code",
   "execution_count": 19,
   "id": "e3bcf9c1-a037-4978-b87d-78b2a7128385",
   "metadata": {},
   "outputs": [
    {
     "data": {
      "image/png": "[encoded data removed]",
      "text/plain": [
       "<Figure size 640x480 with 2 Axes>"
      ]
     },
     "metadata": {},
     "output_type": "display_data"
    }
   ],
   "source": [
    "class_names=['FUENTE DESCONOCIDA', 'IMPORTADO', 'RELACIONADO CON LA FUENTE DESCONOCIDA', 'RELACIONADO CON LA IMPORTACION']\n",
    "conf = confusion_matrix(y_test, y_test_pred, labels=class_names)\n",
    "\n",
    "sns.heatmap(conf, annot=True, fmt='d', xticklabels=class_names, yticklabels=class_names)\n",
    "\n",
    "plt.title('Matriz de confusión')\n",
    "plt.xlabel('Valores predichos')\n",
    "plt.ylabel('Valores reales')\n",
    "\n",
    "plt.show()"
   ]
  },
  {
   "cell_type": "markdown",
   "id": "496b104a-3bb5-4c6c-9aff-995fe29fb615",
   "metadata": {},
   "source": [
    "# 7 - Selección de la métrica más adecuada\n",
    "En el contexto de predecir la fuente de infección del virus, la métrica más adecuada sería la **precisión**."
   ]
  },
  {
   "cell_type": "markdown",
   "id": "39bf497c-1f0f-4860-8dbc-010dd569d8c3",
   "metadata": {},
   "source": [
    "La precisión se enfoca en la proporción de casos positivos correctamente identificados en relación con el total de casos clasificados como positivos. En este caso, la precisión mediría la capacidad del modelo para predecir correctamente la fuente de infección, es decir, cuántos de los casos clasificados como FUENTE DESCONOCIDA, IMPORTADO, RELACIONADO CON LA FUENTE DESCONOCIDA y RELACIONADO CON LA IMPORTACION son realmente correctos."
   ]
  },
  {
   "cell_type": "markdown",
   "id": "11fd3ca5-eb5b-45e9-8726-649055cb2e89",
   "metadata": {},
   "source": [
    "La precisión es especialmente útil cuando se desea minimizar los falsos positivos, es decir, evitar clasificar incorrectamente casos negativos como positivos. En el contexto de predecir la fuente de infección, tener una alta precisión implica que las predicciones positivas son confiables y están respaldadas por datos sólidos, lo que es importante para tomar decisiones informadas sobre las acciones a seguir en respuesta a la infección."
   ]
  },
  {
   "cell_type": "markdown",
   "id": "c00c0b0c-cd2d-44cb-b623-2e7c64c8e45b",
   "metadata": {},
   "source": [
    "# 8 - Grid Search"
   ]
  },
  {
   "cell_type": "code",
   "execution_count": 35,
   "id": "db5aab5a-935f-4f8e-aa6c-a4859e8aa0e5",
   "metadata": {},
   "outputs": [
    {
     "name": "stdout",
     "output_type": "stream",
     "text": [
      "Los mejores parámetros son: {'activation': 'logistic', 'alpha': 1e-06, 'hidden_layer_sizes': (60, 20), 'learning_rate_init': 0.01, 'max_iter': 5000, 'random_state': 42, 'solver': 'adam'}\n"
     ]
    }
   ],
   "source": [
    "modelo = MLPClassifier()\n",
    "\n",
    "# Parámetros para usar en el Grid Search\n",
    "param_grid = {'solver':[ 'adam', 'sgd'], # Algoritmo\n",
    "              'learning_rate_init' :[0.01,0.05,0.005], # Tasa de aprendizaje\n",
    "              'hidden_layer_sizes': [(45),(60,20),(50,)], # Número de capas y cantidad de unidades por capa \n",
    "              'alpha':[1e-6,1e-5], # Coeficiente de regularización\n",
    "              'activation':['logistic'],\n",
    "              'random_state':[42],\n",
    "              'max_iter':[5000]}\n",
    "\n",
    "# Se crea el grid para iterar sobre los parámetros especificados\n",
    "grid = GridSearchCV(modelo, param_grid, refit=True, verbose=0, scoring='precision_weighted', cv=10, n_jobs=-1)\n",
    "grid.fit(X_train, y_train)\n",
    "\n",
    "print(f'Los mejores parámetros son: {grid.best_params_}')"
   ]
  },
  {
   "cell_type": "code",
   "execution_count": 36,
   "id": "839a7327-f588-45de-aba5-471872d131ca",
   "metadata": {},
   "outputs": [
    {
     "name": "stdout",
     "output_type": "stream",
     "text": [
      "La precisión es de: 0.901335181190493\n"
     ]
    }
   ],
   "source": [
    "print(f'La precisión es de: {grid.best_score_}')"
   ]
  },
  {
   "cell_type": "markdown",
   "id": "5bc2f83e-5467-476a-8e88-fa11a09a67d0",
   "metadata": {},
   "source": [
    "Como se puede ver, los mejores parámetros son: un coeficiente de regularización de 0,000001 con dos capas (60 y 20 neuronas respectivamente), una tasa de aprendizaje de 0,01 y el algoritmo de optimización adam.\n",
    "<br>\n",
    "Con este resultado obtuvimos una precisión del 90,1% lo que indica que es muy alta y la red neuronal está bien configurada."
   ]
  }
 ],
 "metadata": {
  "kernelspec": {
   "display_name": "Python [conda env:upb]",
   "language": "python",
   "name": "conda-env-upb-py"
  },
  "language_info": {
   "codemirror_mode": {
    "name": "ipython",
    "version": 3
   },
   "file_extension": ".py",
   "mimetype": "text/x-python",
   "name": "python",
   "nbconvert_exporter": "python",
   "pygments_lexer": "ipython3",
   "version": "3.11.2"
  }
 },
 "nbformat": 4,
 "nbformat_minor": 5
}
